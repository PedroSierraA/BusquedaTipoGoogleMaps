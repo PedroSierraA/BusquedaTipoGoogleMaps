{
 "cells": [
  {
   "cell_type": "markdown",
   "id": "fc0a652e",
   "metadata": {},
   "source": [
    "#### Busqueda tipo waze/google maps\n",
    "\n",
    "Nuestro objetivo es crear una heuristica creativa y util para  encontrar la mejor ruta entre dos lugares del municipio de Envigado   \n",
    "\n",
    "PASO A PASO \n",
    "1. Librerías \n",
    "2. Inicialización del grafo  \n",
    "  2.1  Creación del grafo  \n",
    "  2.2  Creación de los nodos\n",
    "3. Manipulación del grafo  \n",
    "  3.1  Velocidades y travel time  \n",
    "  3.2  Superficie \n",
    "  3.3  Variables adicionales \n",
    "\n",
    "4. Pesos  \n",
    "  4.1 Peso de superficie y función  \n",
    "  4.2 Pesos de variables adicionales  \n",
    "  4.3 Heurística final \n",
    "\n",
    "5. Enrutamiento \n",
    "  5.1 Definición Start/End  \n",
    "  5.2 Rutas\n",
    "  \n",
    "    - Definición de rutas  \n",
    "    - Gráficas \n",
    "    - Comparaciones\n",
    "\n",
    "   5.3 Funciones complementarias  \n",
    "\n"
   ]
  },
  {
   "cell_type": "markdown",
   "id": "b9b629ee",
   "metadata": {},
   "source": [
    "#### 1. Librerías "
   ]
  },
  {
   "cell_type": "code",
   "execution_count": 1,
   "id": "3c138f32",
   "metadata": {},
   "outputs": [],
   "source": [
    "import pandas as pd\n",
    "import geopandas as gpd\n",
    "from shapely.geometry import Point, LineString\n",
    "\n",
    "import matplotlib.pyplot as plt\n",
    "import plotly_express as px\n",
    "\n",
    "import networkx as nx\n",
    "import osmnx as ox"
   ]
  },
  {
   "cell_type": "markdown",
   "id": "796e70fd",
   "metadata": {},
   "source": [
    "### 2 Grafo\n",
    "#### 2.1 Creación del grafo \n"
   ]
  },
  {
   "cell_type": "code",
   "execution_count": null,
   "id": "f4a5c59a",
   "metadata": {},
   "outputs": [],
   "source": [
    "G = ox.graph_from_place('Envigado, Antioquia, Colombia', network_type='drive', simplify=False)\n",
    "ox.plot_graph(G,figsize=(15,15))"
   ]
  },
  {
   "cell_type": "markdown",
   "id": "fbc64189",
   "metadata": {},
   "source": [
    "#### 2.2 Creación Nodos y Aristas \n",
    "Con esta función graph to *graph_to_gdfs(G)* traemos los nodos y aristas de nuestro grafo como un DF"
   ]
  },
  {
   "cell_type": "code",
   "execution_count": 3,
   "id": "a1738874",
   "metadata": {},
   "outputs": [],
   "source": [
    "gdf_nodes, gdf_edges = ox.graph_to_gdfs(G)"
   ]
  },
  {
   "cell_type": "code",
   "execution_count": 4,
   "id": "48cd39f2",
   "metadata": {},
   "outputs": [
    {
     "data": {
      "text/html": [
       "<div>\n",
       "<style scoped>\n",
       "    .dataframe tbody tr th:only-of-type {\n",
       "        vertical-align: middle;\n",
       "    }\n",
       "\n",
       "    .dataframe tbody tr th {\n",
       "        vertical-align: top;\n",
       "    }\n",
       "\n",
       "    .dataframe thead th {\n",
       "        text-align: right;\n",
       "    }\n",
       "</style>\n",
       "<table border=\"1\" class=\"dataframe\">\n",
       "  <thead>\n",
       "    <tr style=\"text-align: right;\">\n",
       "      <th></th>\n",
       "      <th></th>\n",
       "      <th></th>\n",
       "      <th>osmid</th>\n",
       "      <th>highway</th>\n",
       "      <th>lanes</th>\n",
       "      <th>maxspeed</th>\n",
       "      <th>name</th>\n",
       "      <th>oneway</th>\n",
       "      <th>reversed</th>\n",
       "      <th>length</th>\n",
       "      <th>ref</th>\n",
       "      <th>width</th>\n",
       "      <th>junction</th>\n",
       "      <th>bridge</th>\n",
       "      <th>access</th>\n",
       "      <th>geometry</th>\n",
       "    </tr>\n",
       "    <tr>\n",
       "      <th>u</th>\n",
       "      <th>v</th>\n",
       "      <th>key</th>\n",
       "      <th></th>\n",
       "      <th></th>\n",
       "      <th></th>\n",
       "      <th></th>\n",
       "      <th></th>\n",
       "      <th></th>\n",
       "      <th></th>\n",
       "      <th></th>\n",
       "      <th></th>\n",
       "      <th></th>\n",
       "      <th></th>\n",
       "      <th></th>\n",
       "      <th></th>\n",
       "      <th></th>\n",
       "    </tr>\n",
       "  </thead>\n",
       "  <tbody>\n",
       "    <tr>\n",
       "      <th rowspan=\"2\" valign=\"top\">309313450</th>\n",
       "      <th>414940715</th>\n",
       "      <th>0</th>\n",
       "      <td>1019189334</td>\n",
       "      <td>secondary</td>\n",
       "      <td>2</td>\n",
       "      <td>50</td>\n",
       "      <td>Variante Las Palmas</td>\n",
       "      <td>False</td>\n",
       "      <td>False</td>\n",
       "      <td>24.138083</td>\n",
       "      <td>NaN</td>\n",
       "      <td>NaN</td>\n",
       "      <td>NaN</td>\n",
       "      <td>NaN</td>\n",
       "      <td>NaN</td>\n",
       "      <td>LINESTRING (-75.51982 6.15843, -75.52004 6.15839)</td>\n",
       "    </tr>\n",
       "    <tr>\n",
       "      <th>440765240</th>\n",
       "      <th>0</th>\n",
       "      <td>1019189334</td>\n",
       "      <td>secondary</td>\n",
       "      <td>2</td>\n",
       "      <td>50</td>\n",
       "      <td>Variante Las Palmas</td>\n",
       "      <td>False</td>\n",
       "      <td>True</td>\n",
       "      <td>91.294214</td>\n",
       "      <td>NaN</td>\n",
       "      <td>NaN</td>\n",
       "      <td>NaN</td>\n",
       "      <td>NaN</td>\n",
       "      <td>NaN</td>\n",
       "      <td>LINESTRING (-75.51982 6.15843, -75.51903 6.15866)</td>\n",
       "    </tr>\n",
       "    <tr>\n",
       "      <th rowspan=\"2\" valign=\"top\">309313451</th>\n",
       "      <th>414940727</th>\n",
       "      <th>0</th>\n",
       "      <td>1019189334</td>\n",
       "      <td>secondary</td>\n",
       "      <td>2</td>\n",
       "      <td>50</td>\n",
       "      <td>Variante Las Palmas</td>\n",
       "      <td>False</td>\n",
       "      <td>False</td>\n",
       "      <td>26.537531</td>\n",
       "      <td>NaN</td>\n",
       "      <td>NaN</td>\n",
       "      <td>NaN</td>\n",
       "      <td>NaN</td>\n",
       "      <td>NaN</td>\n",
       "      <td>LINESTRING (-75.52028 6.1584, -75.52051 6.15847)</td>\n",
       "    </tr>\n",
       "    <tr>\n",
       "      <th>414940715</th>\n",
       "      <th>0</th>\n",
       "      <td>1019189334</td>\n",
       "      <td>secondary</td>\n",
       "      <td>2</td>\n",
       "      <td>50</td>\n",
       "      <td>Variante Las Palmas</td>\n",
       "      <td>False</td>\n",
       "      <td>True</td>\n",
       "      <td>27.314193</td>\n",
       "      <td>NaN</td>\n",
       "      <td>NaN</td>\n",
       "      <td>NaN</td>\n",
       "      <td>NaN</td>\n",
       "      <td>NaN</td>\n",
       "      <td>LINESTRING (-75.52028 6.1584, -75.52004 6.15839)</td>\n",
       "    </tr>\n",
       "    <tr>\n",
       "      <th>309313454</th>\n",
       "      <th>4124260034</th>\n",
       "      <th>0</th>\n",
       "      <td>1019190824</td>\n",
       "      <td>secondary</td>\n",
       "      <td>2</td>\n",
       "      <td>60</td>\n",
       "      <td>Variante Las Palmas</td>\n",
       "      <td>False</td>\n",
       "      <td>False</td>\n",
       "      <td>25.381809</td>\n",
       "      <td>NaN</td>\n",
       "      <td>NaN</td>\n",
       "      <td>NaN</td>\n",
       "      <td>NaN</td>\n",
       "      <td>NaN</td>\n",
       "      <td>LINESTRING (-75.5215 6.15963, -75.52164 6.15981)</td>\n",
       "    </tr>\n",
       "  </tbody>\n",
       "</table>\n",
       "</div>"
      ],
      "text/plain": [
       "                               osmid    highway lanes maxspeed  \\\n",
       "u         v          key                                         \n",
       "309313450 414940715  0    1019189334  secondary     2       50   \n",
       "          440765240  0    1019189334  secondary     2       50   \n",
       "309313451 414940727  0    1019189334  secondary     2       50   \n",
       "          414940715  0    1019189334  secondary     2       50   \n",
       "309313454 4124260034 0    1019190824  secondary     2       60   \n",
       "\n",
       "                                         name  oneway  reversed     length  \\\n",
       "u         v          key                                                     \n",
       "309313450 414940715  0    Variante Las Palmas   False     False  24.138083   \n",
       "          440765240  0    Variante Las Palmas   False      True  91.294214   \n",
       "309313451 414940727  0    Variante Las Palmas   False     False  26.537531   \n",
       "          414940715  0    Variante Las Palmas   False      True  27.314193   \n",
       "309313454 4124260034 0    Variante Las Palmas   False     False  25.381809   \n",
       "\n",
       "                          ref width junction bridge access  \\\n",
       "u         v          key                                     \n",
       "309313450 414940715  0    NaN   NaN      NaN    NaN    NaN   \n",
       "          440765240  0    NaN   NaN      NaN    NaN    NaN   \n",
       "309313451 414940727  0    NaN   NaN      NaN    NaN    NaN   \n",
       "          414940715  0    NaN   NaN      NaN    NaN    NaN   \n",
       "309313454 4124260034 0    NaN   NaN      NaN    NaN    NaN   \n",
       "\n",
       "                                                                   geometry  \n",
       "u         v          key                                                     \n",
       "309313450 414940715  0    LINESTRING (-75.51982 6.15843, -75.52004 6.15839)  \n",
       "          440765240  0    LINESTRING (-75.51982 6.15843, -75.51903 6.15866)  \n",
       "309313451 414940727  0     LINESTRING (-75.52028 6.1584, -75.52051 6.15847)  \n",
       "          414940715  0     LINESTRING (-75.52028 6.1584, -75.52004 6.15839)  \n",
       "309313454 4124260034 0     LINESTRING (-75.5215 6.15963, -75.52164 6.15981)  "
      ]
     },
     "execution_count": 4,
     "metadata": {},
     "output_type": "execute_result"
    }
   ],
   "source": [
    "gdf_edges.head()"
   ]
  },
  {
   "cell_type": "markdown",
   "id": "52c97e10",
   "metadata": {},
   "source": [
    "### 3. Manipulación del Df\n",
    "Debemos tener las variables necesarias para poder hacer nuestra heuristica "
   ]
  },
  {
   "cell_type": "markdown",
   "id": "2f67df9c",
   "metadata": {},
   "source": [
    "#### 3.1 Velocidades y travel time\n",
    " Vamos a llenar todas las velocidades para poder crear el travel time \n"
   ]
  },
  {
   "cell_type": "code",
   "execution_count": 5,
   "id": "58c418d0",
   "metadata": {},
   "outputs": [
    {
     "name": "stdout",
     "output_type": "stream",
     "text": [
      "<class 'geopandas.geodataframe.GeoDataFrame'>\n",
      "MultiIndex: 37238 entries, (np.int64(309313450), np.int64(414940715), np.int64(0)) to (np.int64(13050291096), np.int64(1863096087), np.int64(0))\n",
      "Data columns (total 16 columns):\n",
      " #   Column       Non-Null Count  Dtype   \n",
      "---  ------       --------------  -----   \n",
      " 0   osmid        37238 non-null  int64   \n",
      " 1   highway      37238 non-null  object  \n",
      " 2   lanes        8580 non-null   object  \n",
      " 3   maxspeed     4364 non-null   object  \n",
      " 4   name         15637 non-null  object  \n",
      " 5   oneway       37238 non-null  bool    \n",
      " 6   reversed     37238 non-null  bool    \n",
      " 7   length       37238 non-null  float64 \n",
      " 8   speed_kph    37238 non-null  float64 \n",
      " 9   travel_time  37238 non-null  float64 \n",
      " 10  ref          828 non-null    object  \n",
      " 11  width        570 non-null    object  \n",
      " 12  junction     314 non-null    object  \n",
      " 13  bridge       208 non-null    object  \n",
      " 14  access       58 non-null     object  \n",
      " 15  geometry     37238 non-null  geometry\n",
      "dtypes: bool(2), float64(3), geometry(1), int64(1), object(9)\n",
      "memory usage: 5.6+ MB\n"
     ]
    }
   ],
   "source": [
    "G = ox.add_edge_speeds(G)\n",
    "G = ox.add_edge_travel_times(G)\n",
    "gdf_nodes, gdf_edges = ox.graph_to_gdfs(G)\n",
    "gdf_edges.info()"
   ]
  },
  {
   "cell_type": "markdown",
   "id": "b095f655",
   "metadata": {},
   "source": [
    "#### 3.2 Altura Nodos\n",
    "Importaremos la altura de los nodos para poder hacer el cálculo de la pendiente de las aristas \n"
   ]
  },
  {
   "cell_type": "markdown",
   "id": "c1e5cfb0",
   "metadata": {},
   "source": [
    "#### 3.3 Superficie\n",
    "Se importa desde features la superficie de las aristas  \n",
    "Es importante resaltar la forma en que se junta gdf_surface con gdf_eges ya que en esta función se hace el manejo de los index para que el grafo se pueda actualizar de manera correcta "
   ]
  },
  {
   "cell_type": "code",
   "execution_count": 6,
   "id": "78b953d6",
   "metadata": {},
   "outputs": [],
   "source": [
    "gdf_surface = ox.features.features_from_place(\"Envigado, Antioquia, Colombia\", tags={'surface': True})\n",
    "\n",
    "def add_surface_data_safe(gdf_edges, gdf_surface):\n",
    "    edges_with_surface = gdf_edges.copy()\n",
    "    \n",
    "    # Inicializar columna surface\n",
    "    edges_with_surface['surface'] = 'asphalt'  # valor por defecto\n",
    "    \n",
    "    # Para cada feature de superficie, encontrar aristas que intersectan\n",
    "    for idx, surface_feature in gdf_surface.iterrows():\n",
    "        if pd.isna(surface_feature['surface']):\n",
    "            continue\n",
    "            \n",
    "        # Encontrar aristas que intersectan con esta superficie\n",
    "        mask = edges_with_surface.geometry.intersects(surface_feature.geometry)\n",
    "        \n",
    "        # Asignar el tipo de superficie\n",
    "        edges_with_surface.loc[mask, 'surface'] = surface_feature['surface']\n",
    "    \n",
    "    return edges_with_surface\n"
   ]
  },
  {
   "cell_type": "markdown",
   "id": "b6faa52e",
   "metadata": {},
   "source": [
    "Verificación de los index y de cantidad de superficies "
   ]
  },
  {
   "cell_type": "code",
   "execution_count": 33,
   "id": "bb553067",
   "metadata": {},
   "outputs": [
    {
     "name": "stdout",
     "output_type": "stream",
     "text": [
      "Índices originales: ['u', 'v', 'key']\n",
      "Índices modificados: ['u', 'v', 'key']\n",
      "surface\n",
      "asphalt            31926\n",
      "unpaved             2758\n",
      "paved               2075\n",
      "gravel               231\n",
      "concrete             151\n",
      "concrete:lanes        54\n",
      "paving_stones         32\n",
      "cobblestone            8\n",
      "concrete:plates        3\n",
      "Name: count, dtype: int64\n"
     ]
    }
   ],
   "source": [
    "gdf_edgesMod = add_surface_data_safe(gdf_edges, gdf_surface)\n",
    "\n",
    "print(\"Índices originales:\", gdf_edges.index.names)\n",
    "print(\"Índices modificados:\", gdf_edgesMod.index.names)\n",
    "# Conteo por tipo de superficie\n",
    "conteo = gdf_edgesMod['surface'].value_counts(dropna=False)\n",
    "print(conteo)\n",
    "\n",
    "Gsurface = ox.graph_from_gdfs(gdf_nodes, gdf_edgesMod)\n"
   ]
  },
  {
   "cell_type": "markdown",
   "id": "8a7d52a0",
   "metadata": {},
   "source": [
    "#### 3.3 Variables adicionales \n",
    "- Hospitales \n",
    "- Parques \n",
    "- Escuelas \n",
    "\n",
    "Se adquieren las variables necesarias con su geometría, y con este dato se adjuntan a la arista más cercana "
   ]
  },
  {
   "cell_type": "code",
   "execution_count": null,
   "id": "5f58ab7d",
   "metadata": {},
   "outputs": [],
   "source": [
    "gdf_hospitals = ox.features_from_place(\"Envigado\", tags={'amenity': 'hospital'})\n",
    "gdf_schools = ox.features_from_place(\"Envigado\", tags={'amenity': 'school'})\n",
    "gdf_parks = ox.features_from_place(\"Envigado\", tags={'leisure': 'park'})\n",
    "\n",
    "def add_proximity_features(G, gdf_features, feature_name, buffer_distance=0.001):\n",
    "    for u, v, key, data in G.edges(keys=True, data=True):\n",
    "        edge_geom = data['geometry']\n",
    "        buffer_zone = edge_geom.buffer(buffer_distance)\n",
    "        \n",
    "        # Contar features cercanos\n",
    "        nearby_features = gdf_features[gdf_features.geometry.intersects(buffer_zone)]\n",
    "        count = len(nearby_features)\n",
    "        \n",
    "        # Añadir al grafo\n",
    "        G[u][v][key][feature_name] = count\n",
    "\n",
    "add_proximity_features(Gsurface, gdf_hospitals, 'nearby_hospitals')\n",
    "add_proximity_features(Gsurface, gdf_schools, 'nearby_schools')\n",
    "add_proximity_features(Gsurface, gdf_parks, 'crosses_park')"
   ]
  },
  {
   "cell_type": "markdown",
   "id": "88bdcaa2",
   "metadata": {},
   "source": [
    "Verificación de nuevas variables "
   ]
  },
  {
   "cell_type": "code",
   "execution_count": null,
   "id": "58a4631a",
   "metadata": {},
   "outputs": [],
   "source": [
    "print(\"Hospitales encontrados:\", len(gdf_hospitals))\n",
    "print(\"Escuelas encontradas:\", len(gdf_schools))\n",
    "print(\"Parques encontrados:\", len(gdf_parks))\n",
    "\n",
    "# Ver si tienen geometría válida\n",
    "if len(gdf_hospitals) > 0:\n",
    "    print(\"Hospitales tienen geometría:\", not gdf_hospitals.geometry.empty)\n",
    "if len(gdf_schools) > 0:\n",
    "    print(\"Escuelas tienen geometría:\", not gdf_schools.geometry.empty)"
   ]
  },
  {
   "cell_type": "markdown",
   "id": "0ac6e250",
   "metadata": {},
   "source": [
    "### 4 Pesos (heurística)\n",
    "#### 4.1 Pesos de superficie"
   ]
  },
  {
   "cell_type": "code",
   "execution_count": null,
   "id": "f062a0ab",
   "metadata": {},
   "outputs": [],
   "source": [
    "surface_weights = {\n",
    "    'asphalt': 1.0,             \n",
    "    'concrete': 1.1,\n",
    "    'concrete:lanes': 1.1,\n",
    "    'concrete:plates': 1.2,\n",
    "    'paved': 1.2,\n",
    "    'paving_stones': 1.4,\n",
    "    'fine_gravel': 1.6,\n",
    "    'gravel': 2.0,\n",
    "    'cobblestone': 2.2,\n",
    "    'ground': 2.5,\n",
    "    'dirt': 3.0,\n",
    "    'unpaved': 2.8,\n",
    "    'unknown': 4 \n",
    "}\n",
    "\n",
    "def surface_weight(u, v, data):\n",
    "    surface = data.get('surface', 'unknown')\n",
    "    length = data.get('length', 1)\n",
    "    factor = surface_weights.get(surface, 4.0)\n",
    "\n",
    "    peso = length * factor\n",
    "    # print(f\"De {u} a {v}: superficie={surface}, long={length}, factor={factor}, peso={peso}\")\n",
    "    return peso\n",
    "\n"
   ]
  },
  {
   "cell_type": "markdown",
   "id": "f041dfea",
   "metadata": {},
   "source": [
    "#### 4.2 Pesos de otras variables \n",
    "- force_hospital_weight: con este peso se fuerza a que la ruta pase por un hospital "
   ]
  },
  {
   "cell_type": "code",
   "execution_count": null,
   "id": "39b70de0",
   "metadata": {},
   "outputs": [],
   "source": [
    "def force_hospital_weight(u, v, data):\n",
    "    surface = data.get('surface', 'unknown')\n",
    "    length = data.get('length', 1)\n",
    "    hospitals = data.get('nearby_hospitals', 0)\n",
    "    \n",
    "    surface_factor = surface_weights.get(surface, 4.0)\n",
    "    \n",
    "    # Penalización ENORME si no hay hospital cercano\n",
    "    hospital_penalty = 1000 if hospitals == 0 else 1.0\n",
    "    \n",
    "    peso = length * surface_factor * hospital_penalty\n",
    "    return peso"
   ]
  },
  {
   "cell_type": "markdown",
   "id": "aeef64f0",
   "metadata": {},
   "source": [
    "#### 4.3 Heurística Final\n",
    "En este apartado se tienen las heurísticas seleccionadas por el equipo para poder dar una solución crativa y útil para la busqueda "
   ]
  },
  {
   "cell_type": "code",
   "execution_count": null,
   "id": "c60976ed",
   "metadata": {},
   "outputs": [],
   "source": [
    "# Función heurística combinada"
   ]
  },
  {
   "cell_type": "markdown",
   "id": "2bb1ee93",
   "metadata": {},
   "source": [
    "### 5. Enrutamiento \n",
    "#### 5.1  Start/End\n",
    "Con geopy vamos a encontrar la geometría del lugar de inicio y de finalización de la ruta, y asignarlo a el nodo más cercano "
   ]
  },
  {
   "cell_type": "code",
   "execution_count": null,
   "id": "41449306",
   "metadata": {},
   "outputs": [],
   "source": [
    "import geopy\n",
    "from geopy.geocoders import Nominatim\n",
    "\n",
    "locator = Nominatim(user_agent='myGeocoder')\n",
    "\n",
    "location_start = locator.geocode('Sede Posgrados Eia, Envigado, Colombia')\n",
    "location_end=locator.geocode('Universidad EIA, Envigado, Colombia')\n",
    "\n",
    "start= (location_start.latitude, location_start.longitude)\n",
    "end= (location_end.latitude, location_end.longitude)\n",
    "\n",
    "start_node = ox.distance.nearest_nodes(Gsurface, start[1],start[0])\n",
    "end_node = ox.distance.nearest_nodes(Gsurface, end[1],end[0])"
   ]
  },
  {
   "cell_type": "markdown",
   "id": "0766a356",
   "metadata": {},
   "source": [
    "#### 5.2 Busqueda de ruta\n",
    "Con nx vamos a inicializar las rutas con nuestro nodo de inicio y de finalización \n"
   ]
  },
  {
   "cell_type": "code",
   "execution_count": null,
   "id": "81ab1b5d",
   "metadata": {},
   "outputs": [],
   "source": [
    "route1 = nx.shortest_path(G, start_node, end_node, weight=surface_weight)\n",
    "route_original = nx.shortest_path(Gsurface, start_node, end_node, weight=surface_weight)\n",
    "route_hospital = nx.shortest_path(Gsurface, start_node, end_node, weight=force_hospital_weight)"
   ]
  },
  {
   "cell_type": "markdown",
   "id": "ed8064a5",
   "metadata": {},
   "source": [
    "Graficas de las rutas "
   ]
  },
  {
   "cell_type": "code",
   "execution_count": null,
   "id": "66836ebf",
   "metadata": {},
   "outputs": [],
   "source": [
    "ox.plot_graph_route(Gsurface, route1, route_linewidth=6, node_size=0, bgcolor='k',figsize=(20, 20))\n",
    "ox.plot_graph_route(Gsurface, route_original, route_linewidth=6, node_size=0, bgcolor='w',figsize=(10, 10))\n",
    "ox.plot_graph_route(Gsurface, route_hospital, route_linewidth=6, node_size=0, bgcolor='w',figsize=(10, 10))"
   ]
  },
  {
   "cell_type": "markdown",
   "id": "baa3f114",
   "metadata": {},
   "source": [
    "Comparación de las rutas \n",
    "1. Fucnión para verificar hospitales (esta función es de un uso de caso especifico para los hospitales pero es con la intención de demostrar que en la ruta si se está teniendo en cuenta este peso)"
   ]
  },
  {
   "cell_type": "code",
   "execution_count": null,
   "id": "07efe08e",
   "metadata": {},
   "outputs": [],
   "source": [
    "def verify_hospital_route(G, route):\n",
    "    hospitals_found = []\n",
    "    \n",
    "    for i in range(len(route) - 1):\n",
    "        u, v = route[i], route[i + 1]\n",
    "        # Obtener datos del edge\n",
    "        edge_data = G[u][v][0]\n",
    "        hospitals = edge_data.get('nearby_hospitals', 0)\n",
    "        \n",
    "        if hospitals > 0:\n",
    "            hospitals_found.append({\n",
    "                'edge': f\"{u}-{v}\",\n",
    "                'hospitals': hospitals\n",
    "            })\n",
    "    \n",
    "    return hospitals_found"
   ]
  },
  {
   "cell_type": "markdown",
   "id": "f61b3b2f",
   "metadata": {},
   "source": [
    "2. De nuevo es este caso se hace con el ejemplo del hospital, pero en resumen es la comparación entre las rutas generadas cuando se tiene en cuenta la ruta con el peso de superficie vs la ruta con el peso de forzado de hospital\n",
    "\n",
    "- Tenemos una función para calcular el costo de una ruta cualquiera \n",
    "- ps: el reesultado puede dar el mismo en algunos casos dependiendo de la ubicación de inicio o de finalización ya que la ruta más rapida de caualidad también es la que incluía hospitales - "
   ]
  },
  {
   "cell_type": "code",
   "execution_count": null,
   "id": "6503e7a3",
   "metadata": {},
   "outputs": [],
   "source": [
    "# Verificar hospitales en cada ruta\n",
    "hospitals_original = verify_hospital_route(Gsurface, route_original)\n",
    "hospitals_hospital = verify_hospital_route(Gsurface, route_hospital)\n",
    "\n",
    "# Calcular costos\n",
    "def calculate_route_cost(G, route, weight_function):\n",
    "    total_cost = 0\n",
    "    for i in range(len(route) - 1):\n",
    "        u, v = route[i], route[i + 1]\n",
    "        edge_data = G[u][v][0]\n",
    "        total_cost += weight_function(u, v, edge_data)\n",
    "    return total_cost\n",
    "\n",
    "cost_original = calculate_route_cost(Gsurface, route_original, surface_weight)\n",
    "cost_hospital = calculate_route_cost(Gsurface, route_hospital, surface_weight)\n",
    "\n",
    "# Comparación completa\n",
    "print(\"=== COMPARACIÓN DE RUTAS ===\")\n",
    "print(f\"RUTA ORIGINAL:\")\n",
    "print(f\"  Nodos: {len(route_original)}\")\n",
    "print(f\"  Segmentos con hospitales: {len(hospitals_original)}\")\n",
    "print(f\"  Total hospitales: {sum(h['hospitals'] for h in hospitals_original)}\")\n",
    "print(f\"  Costo: {cost_original:.2f}\")\n",
    "\n",
    "print(f\"\\nRUTA CON HOSPITALES:\")\n",
    "print(f\"  Nodos: {len(route_hospital)}\")\n",
    "print(f\"  Segmentos con hospitales: {len(hospitals_hospital)}\")\n",
    "print(f\"  Total hospitales: {sum(h['hospitals'] for h in hospitals_hospital)}\")\n",
    "print(f\"  Costo: {cost_hospital:.2f}\")\n"
   ]
  },
  {
   "cell_type": "markdown",
   "id": "b33e37da",
   "metadata": {},
   "source": [
    "#### 5.3 Funciones complementarias "
   ]
  },
  {
   "cell_type": "markdown",
   "id": "28dbb580",
   "metadata": {},
   "source": [
    "1. Grafica de las superficies en envigado "
   ]
  },
  {
   "cell_type": "code",
   "execution_count": 32,
   "id": "53662e82",
   "metadata": {},
   "outputs": [],
   "source": [
    "# import matplotlib.pyplot as plt\n",
    "# import matplotlib.cm as cm\n",
    "# import matplotlib.colors as mcolors\n",
    "# import osmnx as ox\n",
    "\n",
    "# # Extraer los tipos únicos de superficie para asignar colores\n",
    "# surfaces = list(gdf_edgesMod['surface'].fillna('unknown').unique())\n",
    "# surfaces.sort()\n",
    "\n",
    "# # Crear un mapa de colores personalizado\n",
    "# color_map = plt.get_cmap(\"tab20\", len(surfaces))\n",
    "# surface_color_dict = {surf: color_map(i) for i, surf in enumerate(surfaces)}\n",
    "\n",
    "# # Asignar color a cada arista según su superficie\n",
    "# edge_colors = gdf_edgesMod['surface'].fillna('unknown').map(surface_color_dict)\n",
    "\n",
    "# # Dibujar el grafo\n",
    "# fig, ax = ox.plot_graph(Gsurface,\n",
    "#                         edge_color=edge_colors.tolist(),\n",
    "#                         edge_linewidth=3,\n",
    "#                         node_size=0,\n",
    "#                         bgcolor='white',\n",
    "#                         figsize=(30, 30))\n",
    "\n",
    "# # Mostrar leyenda aparte (opcional)\n",
    "# legend_patches = [plt.Line2D([0], [0], color=surface_color_dict[surf], lw=3, label=surf) for surf in surfaces]\n",
    "# plt.figure(figsize=(10, 5))\n",
    "# plt.legend(handles=legend_patches, loc='center', ncol=4, frameon=False)\n",
    "# plt.axis('off')\n",
    "# plt.show()\n"
   ]
  },
  {
   "cell_type": "markdown",
   "id": "77f7d97c",
   "metadata": {},
   "source": [
    "Comparar conectividad: verifica la conexión de los nodos del grafo "
   ]
  },
  {
   "cell_type": "code",
   "execution_count": null,
   "id": "0c11703b",
   "metadata": {},
   "outputs": [],
   "source": [
    "# Comparar conectividad\n",
    "# print(\"Grafo original conectado:\", nx.is_strongly_connected(G))\n",
    "# print(\"Grafo con superficie conectado:\", nx.is_strongly_connected(Gsurface))\n",
    "\n",
    "# print(\"Nodos original:\", len(G.nodes))\n",
    "# print(\"Nodos con superficie:\", len(Gsurface.nodes))\n",
    "# print(\"Aristas original:\", len(G.edges))\n",
    "# print(\"Aristas con superficie:\", len(Gsurface.edges))"
   ]
  },
  {
   "cell_type": "markdown",
   "id": "2e80f629",
   "metadata": {},
   "source": [
    "Conteo de hospitales en ruta "
   ]
  },
  {
   "cell_type": "code",
   "execution_count": null,
   "id": "7f0a0809",
   "metadata": {},
   "outputs": [
    {
     "name": "stdout",
     "output_type": "stream",
     "text": [
      "Total de hospitales en la ruta: 6\n"
     ]
    }
   ],
   "source": [
    "# def count_hospitals_in_route(G, route):\n",
    "#     \"\"\"Contar total de hospitales en toda la ruta\"\"\"\n",
    "#     total_hospitals = 0\n",
    "    \n",
    "#     for i in range(len(route) - 1):\n",
    "#         u, v = route[i], route[i + 1]\n",
    "#         edge_data = G[u][v][0]\n",
    "#         total_hospitals += edge_data.get('nearby_hospitals', 0)\n",
    "    \n",
    "#     return total_hospitals\n",
    "\n",
    "# # Uso\n",
    "# hospital_count = count_hospitals_in_route(Gsurface, route3)\n",
    "# print(f\"Total de hospitales en la ruta: {hospital_count}\")"
   ]
  }
 ],
 "metadata": {
  "kernelspec": {
   "display_name": "IA",
   "language": "python",
   "name": "python3"
  },
  "language_info": {
   "codemirror_mode": {
    "name": "ipython",
    "version": 3
   },
   "file_extension": ".py",
   "mimetype": "text/x-python",
   "name": "python",
   "nbconvert_exporter": "python",
   "pygments_lexer": "ipython3",
   "version": "3.13.5"
  }
 },
 "nbformat": 4,
 "nbformat_minor": 5
}
